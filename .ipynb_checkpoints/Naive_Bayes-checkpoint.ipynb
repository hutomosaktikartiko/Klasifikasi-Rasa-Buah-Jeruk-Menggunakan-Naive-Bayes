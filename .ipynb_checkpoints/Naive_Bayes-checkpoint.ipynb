{
 "cells": [
  {
   "cell_type": "code",
   "execution_count": 1,
   "metadata": {},
   "outputs": [],
   "source": [
    "# Import Library\n",
    "import numpy as np\n",
    "import pandas as pd\n",
    "import matplotlib.pyplot as plt"
   ]
  },
  {
   "cell_type": "code",
   "execution_count": 3,
   "metadata": {},
   "outputs": [
    {
     "name": "stdout",
     "output_type": "stream",
     "text": [
      "Data Latih\n",
      "     R    G   B   Rasa\n",
      "0  137  112  73  Manis\n",
      "1  125  103  65  Manis\n",
      "2  135   80  28  Manis\n",
      "3  153  110  24  Manis\n",
      "4  123   96  23  Manis\n",
      "Data Uji\n",
      "     R    G   B   Rasa\n",
      "0  117  105  81  Manis\n",
      "1  125  115  15  Manis\n",
      "2  131   74  31  Manis\n",
      "3  116  110  63  Manis\n",
      "4  131  107  40  Manis\n"
     ]
    }
   ],
   "source": [
    "# Import dataset\n",
    "data_latih = pd.read_csv('Data_Latih.csv', delimiter= ',', header = 0)\n",
    "data_uji = pd.read_csv('Data_Uji.csv', delimiter= ',', header = 0)\n",
    "\n",
    "print(\"Data Latih\")\n",
    "print(data_latih.head())\n",
    "print(\"Data Uji\")\n",
    "print(data_uji.head())"
   ]
  },
  {
   "cell_type": "code",
   "execution_count": 6,
   "metadata": {},
   "outputs": [],
   "source": [
    "data_latih = data_latih.to_numpy()\n",
    "data_uji = data_uji.to_numpy()"
   ]
  },
  {
   "cell_type": "code",
   "execution_count": 44,
   "metadata": {},
   "outputs": [],
   "source": []
  },
  {
   "cell_type": "code",
   "execution_count": null,
   "metadata": {},
   "outputs": [],
   "source": []
  }
 ],
 "metadata": {
  "kernelspec": {
   "display_name": "Python 3",
   "language": "python",
   "name": "python3"
  },
  "language_info": {
   "codemirror_mode": {
    "name": "ipython",
    "version": 3
   },
   "file_extension": ".py",
   "mimetype": "text/x-python",
   "name": "python",
   "nbconvert_exporter": "python",
   "pygments_lexer": "ipython3",
   "version": "3.8.3"
  }
 },
 "nbformat": 4,
 "nbformat_minor": 4
}
