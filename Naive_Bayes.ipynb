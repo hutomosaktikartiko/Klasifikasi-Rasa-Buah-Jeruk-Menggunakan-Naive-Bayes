{
 "cells": [
  {
   "cell_type": "code",
   "execution_count": 29,
   "metadata": {},
   "outputs": [],
   "source": [
    "# Import Library\n",
    "import numpy as np\n",
    "import pandas as pd"
   ]
  },
  {
   "cell_type": "code",
   "execution_count": 30,
   "metadata": {},
   "outputs": [
    {
     "name": "stdout",
     "output_type": "stream",
     "text": [
      "Data Latih\n",
      "     R    G   B   Rasa\n",
      "0  137  112  73  Manis\n",
      "1  125  103  65  Manis\n",
      "2  135   80  28  Manis\n",
      "3  153  110  24  Manis\n",
      "4  123   96  23  Manis\n",
      "Data Uji\n",
      "     R    G   B   Rasa\n",
      "0  117  105  81  Manis\n",
      "1  125  115  15  Manis\n",
      "2  131   74  31  Manis\n",
      "3  116  110  63  Manis\n",
      "4  131  107  40  Manis\n"
     ]
    }
   ],
   "source": [
    "# Import dataset\n",
    "data_latih = pd.read_csv('Data_Latih.csv', delimiter= ',', header = 0)\n",
    "data_uji = pd.read_csv('Data_Uji.csv', delimiter= ',', header = 0)\n",
    "\n",
    "print(\"Data Latih\")\n",
    "print(data_latih.head())\n",
    "print(\"Data Uji\")\n",
    "print(data_uji.head())"
   ]
  },
  {
   "cell_type": "code",
   "execution_count": 31,
   "metadata": {},
   "outputs": [],
   "source": [
    "# Ubah pandas dataframe menjadi numpy array\n",
    "data_latih = data_latih.to_numpy()\n",
    "data_uji = data_uji.to_numpy()"
   ]
  },
  {
   "cell_type": "code",
   "execution_count": 32,
   "metadata": {},
   "outputs": [],
   "source": [
    "inputTraining = data_latih[:, 0: 3]\n",
    "inputTesting = data_uji[:, 0: 3]\n",
    "labelTraining = data_latih[:, 3]\n",
    "labelTesting = data_uji[:, 3]"
   ]
  },
  {
   "cell_type": "code",
   "execution_count": 33,
   "metadata": {},
   "outputs": [],
   "source": [
    "from sklearn.naive_bayes import GaussianNB\n",
    "model = GaussianNB()\n",
    "model = model.fit(inputTraining, labelTraining)"
   ]
  },
  {
   "cell_type": "code",
   "execution_count": 34,
   "metadata": {},
   "outputs": [
    {
     "name": "stdout",
     "output_type": "stream",
     "text": [
      "Label Sebenarnya  ['Manis' 'Manis' 'Manis' 'Manis' 'Manis' 'Manis' 'Manis' 'Manis' 'Manis'\n",
      " 'Manis' 'Asam' 'Asam' 'Asam' 'Asam' 'Asam' 'Asam' 'Asam' 'Asam' 'Asam'\n",
      " 'Asam' 'Asam' 'Tawar' 'Tawar' 'Tawar' 'Tawar' 'Tawar' 'Tawar' 'Tawar'\n",
      " 'Tawar' 'Tawar']\n"
     ]
    }
   ],
   "source": [
    "print(\"Label Sebenarnya \", labelTesting)"
   ]
  },
  {
   "cell_type": "code",
   "execution_count": 35,
   "metadata": {},
   "outputs": [
    {
     "name": "stdout",
     "output_type": "stream",
     "text": [
      "Hasil Prediksi ['Manis' 'Asam' 'Manis' 'Manis' 'Manis' 'Manis' 'Manis' 'Manis' 'Tawar'\n",
      " 'Manis' 'Asam' 'Asam' 'Asam' 'Asam' 'Asam' 'Asam' 'Asam' 'Asam' 'Asam'\n",
      " 'Asam' 'Asam' 'Asam' 'Tawar' 'Tawar' 'Asam' 'Tawar' 'Tawar' 'Tawar'\n",
      " 'Tawar' 'Tawar']\n"
     ]
    }
   ],
   "source": [
    "hasilPrediksi = model.predict(inputTesting)\n",
    "print(\"Hasil Prediksi\", hasilPrediksi)"
   ]
  },
  {
   "cell_type": "code",
   "execution_count": 36,
   "metadata": {},
   "outputs": [],
   "source": [
    "prediksiBenar = (hasilPrediksi == labelTesting).sum()\n",
    "prediksiSalah = (hasilPrediksi != labelTesting).sum()"
   ]
  },
  {
   "cell_type": "code",
   "execution_count": 37,
   "metadata": {},
   "outputs": [
    {
     "name": "stdout",
     "output_type": "stream",
     "text": [
      "Prediksi Benar :  26  data\n",
      "Prediksi Salah :  4  data\n"
     ]
    }
   ],
   "source": [
    "print(\"Prediksi Benar : \", prediksiBenar, \" data\")\n",
    "print(\"Prediksi Salah : \", prediksiSalah, \" data\")"
   ]
  },
  {
   "cell_type": "code",
   "execution_count": 38,
   "metadata": {},
   "outputs": [
    {
     "name": "stdout",
     "output_type": "stream",
     "text": [
      "Akurasi  86.66666666666667  %\n"
     ]
    }
   ],
   "source": [
    "akurasi = prediksiBenar/(prediksiBenar + prediksiSalah) * 100\n",
    "print(\"Akurasi \", akurasi, \" %\")"
   ]
  }
 ],
 "metadata": {
  "kernelspec": {
   "display_name": "Python 3",
   "language": "python",
   "name": "python3"
  },
  "language_info": {
   "codemirror_mode": {
    "name": "ipython",
    "version": 3
   },
   "file_extension": ".py",
   "mimetype": "text/x-python",
   "name": "python",
   "nbconvert_exporter": "python",
   "pygments_lexer": "ipython3",
   "version": "3.8.3"
  }
 },
 "nbformat": 4,
 "nbformat_minor": 4
}
